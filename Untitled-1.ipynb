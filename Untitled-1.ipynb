{
 "cells": [
  {
   "cell_type": "markdown",
   "metadata": {},
   "source": [
    "# Módulo 0\n",
    "# Ejercicio 1"
   ]
  },
  {
   "cell_type": "code",
   "execution_count": 119,
   "metadata": {},
   "outputs": [
    {
     "data": {
      "application/vnd.jupyter.widget-view+json": {
       "model_id": "cf24a0ab0ad64f6a8c6914a5f31726be",
       "version_major": 2,
       "version_minor": 0
      },
      "text/html": [
       "<p>Failed to display Jupyter Widget of type <code>ToggleButton</code>.</p>\n",
       "<p>\n",
       "  If you're reading this message in the Jupyter Notebook or JupyterLab Notebook, it may mean\n",
       "  that the widgets JavaScript is still loading. If this message persists, it\n",
       "  likely means that the widgets JavaScript library is either not installed or\n",
       "  not enabled. See the <a href=\"https://ipywidgets.readthedocs.io/en/stable/user_install.html\">Jupyter\n",
       "  Widgets Documentation</a> for setup instructions.\n",
       "</p>\n",
       "<p>\n",
       "  If you're reading this message in another frontend (for example, a static\n",
       "  rendering on GitHub or <a href=\"https://nbviewer.jupyter.org/\">NBViewer</a>),\n",
       "  it may mean that your frontend doesn't currently support widgets.\n",
       "</p>\n"
      ],
      "text/plain": [
       "ToggleButton(value=False, button_style='success', description='Iniciar Launch', icon='rocket', tooltip='Engage you Launch')"
      ]
     },
     "metadata": {},
     "output_type": "display_data"
    },
    {
     "data": {
      "application/vnd.jupyter.widget-view+json": {
       "model_id": "0b66b39b85d846caae6dbf3f3960566d",
       "version_major": 2,
       "version_minor": 0
      },
      "text/html": [
       "<p>Failed to display Jupyter Widget of type <code>Output</code>.</p>\n",
       "<p>\n",
       "  If you're reading this message in the Jupyter Notebook or JupyterLab Notebook, it may mean\n",
       "  that the widgets JavaScript is still loading. If this message persists, it\n",
       "  likely means that the widgets JavaScript library is either not installed or\n",
       "  not enabled. See the <a href=\"https://ipywidgets.readthedocs.io/en/stable/user_install.html\">Jupyter\n",
       "  Widgets Documentation</a> for setup instructions.\n",
       "</p>\n",
       "<p>\n",
       "  If you're reading this message in another frontend (for example, a static\n",
       "  rendering on GitHub or <a href=\"https://nbviewer.jupyter.org/\">NBViewer</a>),\n",
       "  it may mean that your frontend doesn't currently support widgets.\n",
       "</p>\n"
      ],
      "text/plain": [
       "Output()"
      ]
     },
     "metadata": {},
     "output_type": "display_data"
    }
   ],
   "source": [
    "import ipywidgets as widgets\n",
    "ignition = widgets.ToggleButton(\n",
    "    value=False,\n",
    "    description='Iniciar Launch',\n",
    "    button_style='success',\n",
    "    tooltip='Engage you Launch',\n",
    "    icon='rocket'\n",
    ")\n",
    "output = widgets.Output()\n",
    "display(ignition,output)\n",
    "def on_value_change(change):\n",
    "    with output:\n",
    "        if change['new']==True:\n",
    "            print(\"Nave iniciada\")\n",
    "        else:\n",
    "            print(\"Nave detenida\")\n",
    "ignition.observe(on_value_change,names='value')"
   ]
  },
  {
   "cell_type": "markdown",
   "metadata": {},
   "source": [
    "# Módulo 1\n",
    "# Ejercicio 1"
   ]
  },
  {
   "cell_type": "code",
   "execution_count": 121,
   "metadata": {},
   "outputs": [
    {
     "ename": "AttributeError",
     "evalue": "module 'numpy.random' has no attribute 'default_rng'",
     "output_type": "error",
     "traceback": [
      "\u001b[1;31m---------------------------------------------------------------------------\u001b[0m",
      "\u001b[1;31mAttributeError\u001b[0m                            Traceback (most recent call last)",
      "\u001b[1;32m<ipython-input-121-985b44a5e1e2>\u001b[0m in \u001b[0;36m<module>\u001b[1;34m()\u001b[0m\n\u001b[0;32m      1\u001b[0m \u001b[1;32mimport\u001b[0m \u001b[0mnumpy\u001b[0m \u001b[1;32mas\u001b[0m \u001b[0mnp\u001b[0m\u001b[1;33m\u001b[0m\u001b[0m\n\u001b[0;32m      2\u001b[0m \u001b[1;32mimport\u001b[0m \u001b[0mmatplotlib\u001b[0m\u001b[1;33m.\u001b[0m\u001b[0mpyplot\u001b[0m \u001b[1;32mas\u001b[0m \u001b[0mplt\u001b[0m\u001b[1;33m\u001b[0m\u001b[0m\n\u001b[1;32m----> 3\u001b[1;33m \u001b[0mdata\u001b[0m \u001b[1;33m=\u001b[0m \u001b[0mnp\u001b[0m\u001b[1;33m.\u001b[0m\u001b[0mrandom\u001b[0m\u001b[1;33m.\u001b[0m\u001b[0mdefault_rng\u001b[0m\u001b[1;33m(\u001b[0m\u001b[1;36m12345\u001b[0m\u001b[1;33m)\u001b[0m\u001b[1;33m\u001b[0m\u001b[0m\n\u001b[0m\u001b[0;32m      4\u001b[0m \u001b[0moxy_nums\u001b[0m\u001b[1;33m=\u001b[0m\u001b[0mdata\u001b[0m\u001b[1;33m.\u001b[0m\u001b[0mintegers\u001b[0m\u001b[1;33m(\u001b[0m\u001b[0mlow\u001b[0m\u001b[1;33m=\u001b[0m\u001b[1;36m0\u001b[0m\u001b[1;33m,\u001b[0m\u001b[0mhigh\u001b[0m\u001b[1;33m=\u001b[0m\u001b[1;36m10\u001b[0m\u001b[1;33m,\u001b[0m\u001b[0msize\u001b[0m\u001b[1;33m=\u001b[0m\u001b[1;36m10\u001b[0m\u001b[1;33m)\u001b[0m\u001b[1;33m\u001b[0m\u001b[0m\n\u001b[0;32m      5\u001b[0m \u001b[0mplt\u001b[0m\u001b[1;33m.\u001b[0m\u001b[0mbar\u001b[0m\u001b[1;33m(\u001b[0m\u001b[0mrange\u001b[0m\u001b[1;33m(\u001b[0m\u001b[0mlen\u001b[0m\u001b[1;33m(\u001b[0m\u001b[0moxy_nums\u001b[0m\u001b[1;33m)\u001b[0m\u001b[1;33m)\u001b[0m\u001b[1;33m,\u001b[0m\u001b[0moxy_nums\u001b[0m\u001b[1;33m)\u001b[0m\u001b[1;33m\u001b[0m\u001b[0m\n",
      "\u001b[1;31mAttributeError\u001b[0m: module 'numpy.random' has no attribute 'default_rng'"
     ]
    }
   ],
   "source": [
    "import numpy as np\n",
    "import matplotlib.pyplot as plt\n",
    "data = np.random.default_rng(12345)\n",
    "oxy_nums=data.integers(low=0,high=10,size=10)\n",
    "plt.bar(range(len(oxy_nums)),oxy_nums)\n",
    "plt.show()\n",
    "endVelocity=11200\n",
    "startVelocity=0\n",
    "acceleration=9.8\n",
    "time=(endVelocity-startVelocity)/acceleration\n",
    "print(\"Tiempo para alcanzar la velocidad deseada\",time)"
   ]
  },
  {
   "cell_type": "code",
   "execution_count": null,
   "metadata": {},
   "outputs": [
    {
     "name": "stdout",
     "output_type": "stream",
     "text": [
      "Today's date is: 2022-02-18 17:11:33.086358\n",
      "11parsec, is 35.877159999999996lightyears\n"
     ]
    }
   ],
   "source": [
    "from datetime import datetime\n",
    "fecha=datetime.now()\n",
    "print(\"Today's date is:\",fecha)\n",
    "\n",
    "parsec=11\n",
    "lightyears=parsec*3.26156\n",
    "print(str(parsec)+\"parsec, is \"+str(lightyears)+\"lightyears\")"
   ]
  },
  {
   "cell_type": "markdown",
   "metadata": {},
   "source": [
    "# Módulo 3"
   ]
  },
  {
   "cell_type": "code",
   "execution_count": null,
   "metadata": {},
   "outputs": [
    {
     "name": "stdout",
     "output_type": "stream",
     "text": [
      "93\n",
      "a es mayor que b\n",
      "a es menor que b\n",
      "57\n"
     ]
    }
   ],
   "source": [
    "#Tip de práctica 1\n",
    "a=97\n",
    "b=55\n",
    "if a<b:\n",
    "    print(b)\n",
    "\n",
    "#Tip de práctica 2\n",
    "a=93\n",
    "b=27\n",
    "if a>=b:\n",
    "    print(a)\n",
    "\n",
    "else:\n",
    "    print(b)\n",
    "\n",
    "#Práctica 3\n",
    "a=93\n",
    "b=27\n",
    "if a>b:\n",
    "    print(\"a es mayor que b\")\n",
    "elif a<b:\n",
    "    print(\"a es menor que b\")\n",
    "else:\n",
    "    print(\"a es igual que b\")\n",
    "\n",
    "#Práctica 4\n",
    "a=16\n",
    "b=25\n",
    "c=27\n",
    "if a>b:\n",
    "    if b>c:\n",
    "        print(\"a es mayor que b y b es mayor que c\")    \n",
    "    else:\n",
    "        print(\"a es mayor que b y menor que c\")\n",
    "elif a==b:\n",
    "    print(\"a es igual que b\")\n",
    "else:\n",
    "    print(\"a es menor que b\")\n",
    "\n",
    "#Práctica 5\n",
    "a=23\n",
    "b=34\n",
    "if a==34 or b==34:\n",
    "    print(a+b)"
   ]
  },
  {
   "cell_type": "code",
   "execution_count": null,
   "metadata": {},
   "outputs": [
    {
     "name": "stdout",
     "output_type": "stream",
     "text": [
      "¡¡¡PELIGRO DE COLISIÓN!!!\n",
      "¡¡¡MIRA EL CIELO, PUEDE HABER ASTERIODES!!!\n"
     ]
    }
   ],
   "source": [
    "# Imprimir mensajes de advertencia\n",
    "# Ejercicio 1\n",
    "v1=25\n",
    "a1=49\n",
    "\n",
    "if a1>v1:\n",
    "    print(\"¡¡¡PELIGRO DE COLISIÓN!!!\")\n",
    "else:\n",
    "    print(\"NO HAY PELIGRO\")\n",
    "\n",
    "# Ejercicio 2\n",
    "v2=20\n",
    "a2=19\n",
    "if a2>v2:\n",
    "    print(\"¡¡¡MIRA EL CIELO, PUEDE HABER ASTEROIDES!!!\")\n",
    "elif a2==v2:\n",
    "    print(\"¡¡¡MIRA EL CIELO, PUEDE HABER ASTEROIDES!!!\")\n",
    "else:\n",
    "    print(\"NO PASA NINGÚN ASTEROIDE\")\n",
    "\n",
    "#Ejercicio 3\n"
   ]
  },
  {
   "cell_type": "markdown",
   "metadata": {},
   "source": [
    "# Módulo 4\n",
    "# Ejercicio 1"
   ]
  },
  {
   "cell_type": "code",
   "execution_count": null,
   "metadata": {},
   "outputs": [
    {
     "name": "stdout",
     "output_type": "stream",
     "text": [
      "The highest daylight temperature of the Moon is 127 C.\n",
      "uno\n",
      "The highest daylight temperature of the Moon is 127 Celsius.\n",
      "fin\n"
     ]
    }
   ],
   "source": [
    "text=\"\"\"Interesting facts about the Moon. The Moon is Earth's only satellite. There are several interesting facts about the Moon and how it affects life here on Earth. \n",
    "On average, the Moon moves 4cm away from the Earth every year. This yearly drift is not significant enough to cause immediate effects on Earth. The highest daylight temperature of the Moon is 127 C.\"\"\"\n",
    "\n",
    "# Dividir el texto en oraciones\n",
    "aux=text.split('. ')\n",
    "\n",
    "# definir pistas: average, temperature distance\n",
    "pistas=[\"average\", \"temperature\", \"distance\"]\n",
    "\n",
    "# ciclo for para recorrer la cadena\n",
    "for i in range(len(aux)):\n",
    "    #print (i)\n",
    "    aux1=aux[i].split()\n",
    "    for j in range(len(aux1)):\n",
    "        #print(j)\n",
    "        for k in range(len(pistas)):\n",
    "            #print(k)\n",
    "            if aux1[j]==pistas[k]:\n",
    "                print(aux[i])\n",
    "\n",
    "# ciclo para cambiar C a celsius\n",
    "for i in range(len(aux)):\n",
    "    aux1=aux[i].split()\n",
    "    for j in range(len(aux1)):\n",
    "        for k in range(len(pistas)):\n",
    "            if aux1[j]==pistas[k]:\n",
    "                print(aux[i].replace('C','Celsius'))"
   ]
  },
  {
   "cell_type": "markdown",
   "metadata": {},
   "source": [
    "# Módulo 4\n",
    "# Ejercicio 2"
   ]
  },
  {
   "cell_type": "code",
   "execution_count": null,
   "metadata": {},
   "outputs": [
    {
     "name": "stdout",
     "output_type": "stream",
     "text": [
      " G R A V E D A D \n",
      "----------------------------\n",
      "Nombre: Moon\n",
      "Gravedad: 1.6199999999999999m/s2\n",
      "Planeta: Earth\n",
      "\n",
      "\n",
      "Gravedad\n",
      "----------------------------\n",
      "Nombre: Ganímedes\n",
      "Gravedad: 0.00143 m/s\n",
      "Planeta: Marte\n",
      "\n"
     ]
    }
   ],
   "source": [
    "# Datos\n",
    "name=\"Moon\"\n",
    "gravity=0.00162\n",
    "planet=\"Earth\"\n",
    "# Creamos el título\n",
    "title=\" G R A V E D A D \\n\"\n",
    "\n",
    "# Creamos plantilla\n",
    "plant=f\"\"\"----------------------------\n",
    "Nombre: {name}\n",
    "Gravedad: {gravity*1000}m/s2\n",
    "Planeta: {planet}\n",
    "\"\"\"\n",
    "# Unión de cadenas\n",
    "template=title+plant\n",
    "\n",
    "# Comprobación de cadenas\n",
    "# Print(nombre_plantilla)\n",
    "print(template)\n",
    "\n",
    "# Nueva plantilla\n",
    "name=\"Ganímedes\"\n",
    "gravity=0.00143\n",
    "planet=\"Marte\"\n",
    "\n",
    "\n",
    "# Pista: print(nueva_plantilla.format(variables))\n",
    "nueva=\"\"\"\n",
    "Gravedad\n",
    "----------------------------\n",
    "Nombre: {name}\n",
    "Gravedad: {gravity} m/s\n",
    "Planeta: {planet}\n",
    "\"\"\"\n",
    "print(nueva.format(name=name,planet=planet,gravity=gravity))"
   ]
  },
  {
   "cell_type": "markdown",
   "metadata": {},
   "source": [
    "# Módulo 5\n",
    "# Ejercicio 1"
   ]
  },
  {
   "cell_type": "code",
   "execution_count": null,
   "metadata": {},
   "outputs": [
    {
     "name": "stdout",
     "output_type": "stream",
     "text": [
      "La distancia entre planetas es de  628949330 Km o  390577533.93 millas\n"
     ]
    }
   ],
   "source": [
    "#Crear variables para almacenar las distancias\n",
    "tierra=149597870\n",
    "jupiter=778547200\n",
    "\n",
    "#Calcular distancia entre planetas\n",
    "dis=jupiter-tierra\n",
    "#En millas\n",
    "mil=dis*0.621\n",
    "print(\"La distancia entre planetas es de \", dis, \"Km o \",mil,\"millas\")"
   ]
  },
  {
   "cell_type": "markdown",
   "metadata": {},
   "source": [
    "# Módulo 5\n",
    "# Ejercicio 2"
   ]
  },
  {
   "cell_type": "code",
   "execution_count": null,
   "metadata": {},
   "outputs": [
    {
     "name": "stdout",
     "output_type": "stream",
     "text": [
      "La distancia entre Júpiter y la Tierra es de  763700000 Km\n",
      "La distancia entre Júpiter y la Tierra es de  474257700.0 millas\n"
     ]
    }
   ],
   "source": [
    "#Almacenar las entradas del usuario\n",
    "sol_j=input(\"Ingresa la distancia entre el sol y Júpiter\")\n",
    "sol_t=input(\"Ingresa la distancia entre el sol y la tierra\")\n",
    "\n",
    "#Convierte las cadenas de ambos planetas a números enteros\n",
    "sol_j=int(sol_j)\n",
    "sol_t=int(sol_t)\n",
    "\n",
    "#Realizar el cálculo y determinar el valor absoluto\n",
    "distancia=abs(sol_t-sol_j)\n",
    "print(\"La distancia entre Júpiter y la Tierra es de \",distancia,\"Km\")\n",
    "#Convertir de km a millas\n",
    "millas=distancia*0.621\n",
    "print(\"La distancia entre Júpiter y la Tierra es de \",millas,\"millas\")"
   ]
  },
  {
   "cell_type": "markdown",
   "metadata": {},
   "source": [
    "# Módulo 6\n",
    "# Ejercicio 1"
   ]
  },
  {
   "cell_type": "code",
   "execution_count": null,
   "metadata": {},
   "outputs": [
    {
     "name": "stdout",
     "output_type": "stream",
     "text": [
      "['Mercury', 'Venus', 'Earth', 'Mars', 'Jupiter', 'Saturn', 'Neptune']\n",
      "['Mercury', 'Venus', 'Earth', 'Mars', 'Jupiter', 'Saturn', 'Neptune', 'Pluto']\n"
     ]
    }
   ],
   "source": [
    "#Creamos la lista planets y la mostramos\n",
    "planets=['Mercury', 'Venus','Earth','Mars','Jupiter','Saturn','Neptune']\n",
    "print(planets)\n",
    "planets.append('Pluto')\n",
    "print(planets)"
   ]
  },
  {
   "cell_type": "markdown",
   "metadata": {},
   "source": [
    "# Módulo 6\n",
    "# Ejercicio 2"
   ]
  },
  {
   "cell_type": "code",
   "execution_count": null,
   "metadata": {},
   "outputs": [
    {
     "name": "stdout",
     "output_type": "stream",
     "text": [
      "7\n",
      "6\n",
      "El planeta es  Neptune  y se encuentra en la posición  7\n",
      "Los planetas más cercanos al sol que el que elegiste son:\n",
      "['Mercury', 'Venus', 'Earth', 'Mars', 'Jupiter', 'Saturn']\n",
      "Elegiste el planeta más lejano al sol\n"
     ]
    }
   ],
   "source": [
    "#Lista de planetas\n",
    "planets=['Mercury','Venus','Earth','Mars','Jupiter','Saturn','Neptune']\n",
    "\n",
    "#solicitamos el nombre de un planeta\n",
    "planeta=input(\"Ingresa un planeta\")\n",
    "indice=planets.index(planeta)\n",
    "\n",
    "#Buscar el planeta en la lista\n",
    "for i in range(len(planets)):\n",
    "    if planeta==planets[i]:\n",
    "        print(\"El planeta es \",planeta,\" y se encuentra en la posición \",indice+1)\n",
    "\n",
    "#Muestra los planetas más cercanos al sol\n",
    "#Muestra los planetas más lejanos al sol\n",
    "if indice==0:\n",
    "    print(\"Elegiste el planeta más cercano al sol\")\n",
    "    print(\"Los planetas más lejanos al sol que el que elegiste son:\")\n",
    "    print(planets[indice+1:])\n",
    "elif indice==len(planeta)-1:\n",
    "    print(\"Los planetas más cercanos al sol que el que elegiste son:\")\n",
    "    print(planets[0:indice])\n",
    "    print(\"Elegiste el planeta más lejano al sol\")\n",
    "else:\n",
    "    print(\"Los planetas más cercanos al sol que el que elegiste son:\")\n",
    "    print(planets[0:indice])\n",
    "    print(\"Los planetas más lejanos al sol que el que elegiste son:\")\n",
    "    print(planets[indice+1:])"
   ]
  },
  {
   "cell_type": "markdown",
   "metadata": {},
   "source": [
    "# Módulo 7\n",
    "# Ejercicio 1\n",
    "# Ejercicio 2"
   ]
  },
  {
   "cell_type": "code",
   "execution_count": null,
   "metadata": {},
   "outputs": [
    {
     "name": "stdout",
     "output_type": "stream",
     "text": [
      "Si terminaste escribe done\n",
      "Si deseas agregar más planetas hazlo\n",
      "Si terminaste escribe done\n",
      "Si deseas agregar más planetas hazlo\n",
      "Si terminaste escribe done\n",
      "Si deseas agregar más planetas hazlo\n",
      "Si terminaste escribe done\n",
      "Si deseas agregar más planetas hazlo\n",
      "venus\n",
      "hola\n",
      "tres\n",
      "cuatro\n"
     ]
    }
   ],
   "source": [
    "#Declara 2 variables\n",
    "planets=[]\n",
    "new_planet=input(\"Ingresa el planeta\")\n",
    "\n",
    "#Escribe el ciclo while\n",
    "while new_planet!='done':\n",
    "    if new_planet:\n",
    "        planets.append(new_planet)\n",
    "        print(\"Si terminaste escribe done\")\n",
    "        print(\"Si deseas agregar más planetas hazlo\")\n",
    "    new_planet=input(\"Ingresa nuevo dato\")\n",
    "\n",
    "# EJERCICIO 2\n",
    "#Escribe tu ciclo for para iterar una lista de planetas\n",
    "for i in range(len(planets)):\n",
    "    print(planets[i])\n"
   ]
  },
  {
   "cell_type": "markdown",
   "metadata": {},
   "source": [
    "# Módulo 8\n",
    "# Ejercicio 1"
   ]
  },
  {
   "cell_type": "code",
   "execution_count": null,
   "metadata": {},
   "outputs": [
    {
     "name": "stdout",
     "output_type": "stream",
     "text": [
      "Planeta: marte  lunas : 2\n",
      "Planeta: marte  circunferencia polar : {6752}\n"
     ]
    }
   ],
   "source": [
    "#Crea un diccionario llamado planet con los datos propuestos\n",
    "planet = {\n",
    "    'nombre':'marte',\n",
    "    'lunas':2\n",
    "}\n",
    "\n",
    "#Muestra el nombre del planeta y el número de lunas que tiene\n",
    "print(\"Planeta:\",planet[\"nombre\"],\" lunas :\",planet[\"lunas\"])\n",
    "\n",
    "# Agrega la clave circunferencia con los datos proporcionados previamente\n",
    "planet['circunferencia']={\n",
    "    'polar':6752,\n",
    "    'equatorial': 6792\n",
    "} \n",
    "\n",
    "#Imprime el nombre del planeta con su circunferencia polar\n",
    "print(\"Planeta:\",planet[\"nombre\"],\" circunferencia polar :\",{planet[\"circunferencia\"][\"polar\"]})\n"
   ]
  },
  {
   "cell_type": "markdown",
   "metadata": {},
   "source": [
    "# Módulo 8\n",
    "# Ejercicio 2"
   ]
  },
  {
   "cell_type": "code",
   "execution_count": null,
   "metadata": {},
   "outputs": [
    {
     "name": "stdout",
     "output_type": "stream",
     "text": [
      "Cantidad total de lunas:  187\n",
      "Promedio de lunas:  17.0\n"
     ]
    }
   ],
   "source": [
    "# Planets and moons\n",
    "planet_moons={\n",
    "    'mercury':0,\n",
    "    'venus':0,\n",
    "    'earth':1,\n",
    "    'mars':2,\n",
    "    'jupiter':79,\n",
    "    'saturn':82,\n",
    "    'neptune':14,\n",
    "    'pluto':5,\n",
    "    'haumea':2,\n",
    "    'makemake':1,\n",
    "    'eris':1\n",
    "}\n",
    "\n",
    "#Añade el código para determinar el número de lunas\n",
    "moons=planet_moons.values()\n",
    "planets=planet_moons.keys()\n",
    "total_moons=0\n",
    "\n",
    "#Agrega el código para contar el número de lunas\n",
    "for moons in moons:\n",
    "    total_moons=total_moons+moons\n",
    "\n",
    "#Promedio de lunas\n",
    "promedio=total_moons/len(planets)\n",
    "#Imprimiendo resultados\n",
    "print(\"Cantidad total de lunas: \",total_moons)\n",
    "print(\"Promedio de lunas: \",promedio)"
   ]
  },
  {
   "cell_type": "markdown",
   "metadata": {},
   "source": [
    "# Módulo 9\n",
    "# Ejercicio 1"
   ]
  },
  {
   "cell_type": "code",
   "execution_count": null,
   "metadata": {},
   "outputs": [
    {
     "name": "stdout",
     "output_type": "stream",
     "text": [
      "\n",
      "    Informe de combustible:\n",
      "    Combustible promedio:67.33333333333333\n",
      "    Primer tanque:80\n",
      "    Segundo tanque:93\n",
      "    Tercer tanque: 29\n",
      "    \n",
      "\n",
      "    Informe de combustible:\n",
      "    Combustible promedio:49.0\n",
      "    Primer tanque:45\n",
      "    Segundo tanque:29\n",
      "    Tercer tanque: 73\n",
      "    \n"
     ]
    }
   ],
   "source": [
    "#Función para leer 3 tanques de combustible y muestre el promedio\n",
    "def funcion(tanque1, tanque2, tanque3):\n",
    "    informe=(tanque1+tanque2+tanque3)/3\n",
    "    datos=f\"\"\"\n",
    "    Informe de combustible:\n",
    "    Combustible promedio:{informe}\n",
    "    Primer tanque:{tanque1}\n",
    "    Segundo tanque:{tanque2}\n",
    "    Tercer tanque: {tanque3}\n",
    "    \"\"\"\n",
    "    return (datos)\n",
    "\n",
    "#Llamamos a la función que genera el reporte\n",
    "print(funcion(80,93,29))\n",
    "\n",
    "#Función promedio\n",
    "def promedio(t1,t2,t3):\n",
    "    prom=(t1+t2+t3)/3\n",
    "    return(prom)\n",
    "\n",
    "#Actualiza la función\n",
    "def f_actualizada(tanque1, tanque2, tanque3):\n",
    "    informe=promedio(tanque1,tanque2,tanque3)\n",
    "    datos=f\"\"\"\n",
    "    Informe de combustible:\n",
    "    Combustible promedio:{informe}\n",
    "    Primer tanque:{tanque1}\n",
    "    Segundo tanque:{tanque2}\n",
    "    Tercer tanque: {tanque3}\n",
    "    \"\"\"\n",
    "    return (datos)\n",
    "\n",
    "print(f_actualizada(45,29,73))"
   ]
  },
  {
   "cell_type": "markdown",
   "metadata": {},
   "source": [
    "# Módulo 9\n",
    "# Ejercicio 2"
   ]
  },
  {
   "cell_type": "code",
   "execution_count": null,
   "metadata": {},
   "outputs": [
    {
     "name": "stdout",
     "output_type": "stream",
     "text": [
      "\n",
      "    Hora de prelanzamiento: 10 horas\n",
      "    Tiempo de vuelo: 253 minutos\n",
      "    Destino: Marte\n",
      "    Tanque externo: 58 %\n",
      "    Tanque interno: 72 %\n",
      "    \n",
      "\n",
      "    Destino: Marte\n",
      "    Tiempo de vuelo: 115 minutos\n",
      "    Tanques: 150 %\n",
      "    \n",
      "\n",
      "    Destino: Marte\n",
      "    Tiempo de vuelo: 115 minutos\n",
      "    Tanques: {'uno': 59, 'dos': 91} %\n",
      "    \n"
     ]
    }
   ],
   "source": [
    "#Función con un informe preciso de la misión\n",
    "#Considera hora de prelanzamiento, tiempo de vuelo, destino, tanque externo, tanque interno\n",
    "from datetime import datetime\n",
    "def informe(hora,tiempo,dest,t1,t2):\n",
    "    datos=f\"\"\"\n",
    "    Hora de prelanzamiento: {hora} horas\n",
    "    Tiempo de vuelo: {tiempo} minutos\n",
    "    Destino: {dest}\n",
    "    Tanque externo: {t1} %\n",
    "    Tanque interno: {t2} %\n",
    "    \"\"\"\n",
    "    return(datos)\n",
    "print(informe(10,253,\"Marte\",58,72))\n",
    "\n",
    "#Escribe tu nueva función de reporte considerando lo anterior\n",
    "def informe2(dest,*tiempo,**tanques):\n",
    "    datos=f\"\"\"\n",
    "    Destino: {dest}\n",
    "    Tiempo de vuelo: {sum(tiempo)} minutos\n",
    "    Tanques: {sum(tanques.values())} %\n",
    "    \"\"\"\n",
    "    return(datos)\n",
    "print(informe2(\"Marte\",38,53,24,uno=59,dos=91))\n",
    "\n",
    "#Escribe tu nueva función\n",
    "def informe2(dest,*tiempo,**tanques):\n",
    "    datos=f\"\"\"\n",
    "    Destino: {dest}\n",
    "    Tiempo de vuelo: {sum(tiempo)} minutos\n",
    "    Tanques: {tanques} %\n",
    "    \"\"\"\n",
    "    return(datos)\n",
    "print(informe2(\"Marte\",38,53,24,uno=59,dos=91))"
   ]
  },
  {
   "cell_type": "markdown",
   "metadata": {},
   "source": [
    "# Módulo 10"
   ]
  },
  {
   "cell_type": "code",
   "execution_count": null,
   "metadata": {},
   "outputs": [
    {
     "data": {
      "text/plain": [
       "'Total water left after 2 days is: -10 liters'"
      ]
     },
     "execution_count": 102,
     "metadata": {},
     "output_type": "execute_result"
    }
   ],
   "source": [
    "#Cálculo de agua\n",
    "def water_left(astronauts,water_left,days_left):\n",
    "    daily_usage=astronauts*11\n",
    "    total_usage=daily_usage*days_left\n",
    "    total_water_left=water_left-total_usage\n",
    "    return f\"Total water left after {days_left} days is: {total_water_left} liters\"\n",
    "\n",
    "water_left(5,100,2)\n",
    "\n"
   ]
  },
  {
   "cell_type": "code",
   "execution_count": null,
   "metadata": {},
   "outputs": [
    {
     "ename": "RuntimeError",
     "evalue": "There is not enough water for 5 astronauts after 2 days!",
     "output_type": "error",
     "traceback": [
      "\u001b[1;31m---------------------------------------------------------------------------\u001b[0m",
      "\u001b[1;31mRuntimeError\u001b[0m                              Traceback (most recent call last)",
      "\u001b[1;32m<ipython-input-103-c7cad9e57d75>\u001b[0m in \u001b[0;36m<module>\u001b[1;34m()\u001b[0m\n\u001b[0;32m      7\u001b[0m         \u001b[1;32mraise\u001b[0m \u001b[0mRuntimeError\u001b[0m\u001b[1;33m(\u001b[0m\u001b[1;34mf\"There is not enough water for {astronauts} astronauts after {days_left} days!\"\u001b[0m\u001b[1;33m)\u001b[0m\u001b[1;33m\u001b[0m\u001b[0m\n\u001b[0;32m      8\u001b[0m     \u001b[0mprint\u001b[0m\u001b[1;33m(\u001b[0m \u001b[1;34mf\"Total water left after {days_left} days is: {total_water_left} liters\"\u001b[0m\u001b[1;33m)\u001b[0m\u001b[1;33m\u001b[0m\u001b[0m\n\u001b[1;32m----> 9\u001b[1;33m \u001b[0mwater_left\u001b[0m\u001b[1;33m(\u001b[0m\u001b[1;36m5\u001b[0m\u001b[1;33m,\u001b[0m\u001b[1;36m100\u001b[0m\u001b[1;33m,\u001b[0m\u001b[1;36m2\u001b[0m\u001b[1;33m)\u001b[0m\u001b[1;33m\u001b[0m\u001b[0m\n\u001b[0m",
      "\u001b[1;32m<ipython-input-103-c7cad9e57d75>\u001b[0m in \u001b[0;36mwater_left\u001b[1;34m(astronauts, water_left, days_left)\u001b[0m\n\u001b[0;32m      5\u001b[0m     \u001b[0mtotal_water_left\u001b[0m \u001b[1;33m=\u001b[0m \u001b[0mwater_left\u001b[0m \u001b[1;33m-\u001b[0m \u001b[0mtotal_usage\u001b[0m\u001b[1;33m\u001b[0m\u001b[0m\n\u001b[0;32m      6\u001b[0m     \u001b[1;32mif\u001b[0m \u001b[0mtotal_water_left\u001b[0m \u001b[1;33m<\u001b[0m \u001b[1;36m0\u001b[0m\u001b[1;33m:\u001b[0m\u001b[1;33m\u001b[0m\u001b[0m\n\u001b[1;32m----> 7\u001b[1;33m         \u001b[1;32mraise\u001b[0m \u001b[0mRuntimeError\u001b[0m\u001b[1;33m(\u001b[0m\u001b[1;34mf\"There is not enough water for {astronauts} astronauts after {days_left} days!\"\u001b[0m\u001b[1;33m)\u001b[0m\u001b[1;33m\u001b[0m\u001b[0m\n\u001b[0m\u001b[0;32m      8\u001b[0m     \u001b[0mprint\u001b[0m\u001b[1;33m(\u001b[0m \u001b[1;34mf\"Total water left after {days_left} days is: {total_water_left} liters\"\u001b[0m\u001b[1;33m)\u001b[0m\u001b[1;33m\u001b[0m\u001b[0m\n\u001b[0;32m      9\u001b[0m \u001b[0mwater_left\u001b[0m\u001b[1;33m(\u001b[0m\u001b[1;36m5\u001b[0m\u001b[1;33m,\u001b[0m\u001b[1;36m100\u001b[0m\u001b[1;33m,\u001b[0m\u001b[1;36m2\u001b[0m\u001b[1;33m)\u001b[0m\u001b[1;33m\u001b[0m\u001b[0m\n",
      "\u001b[1;31mRuntimeError\u001b[0m: There is not enough water for 5 astronauts after 2 days!"
     ]
    }
   ],
   "source": [
    "#Error\n",
    "def water_left(astronauts, water_left, days_left):\n",
    "    daily_usage = astronauts * 11\n",
    "    total_usage = daily_usage * days_left\n",
    "    total_water_left = water_left - total_usage\n",
    "    if total_water_left < 0:\n",
    "        raise RuntimeError(f\"There is not enough water for {astronauts} astronauts after {days_left} days!\")\n",
    "    print( f\"Total water left after {days_left} days is: {total_water_left} liters\")\n",
    "water_left(5,100,2)"
   ]
  },
  {
   "cell_type": "code",
   "execution_count": null,
   "metadata": {},
   "outputs": [
    {
     "name": "stdout",
     "output_type": "stream",
     "text": [
      "There is not enough water for 5 astronauts after 2 days!\n"
     ]
    }
   ],
   "source": [
    "#Excepción\n",
    "def water_left(astronauts, water_left, days_left):\n",
    "    daily_usage = astronauts * 11\n",
    "    total_usage = daily_usage * days_left\n",
    "    total_water_left = water_left - total_usage\n",
    "    if total_water_left < 0:\n",
    "        raise RuntimeError(f\"There is not enough water for {astronauts} astronauts after {days_left} days!\")\n",
    "    print( f\"Total water left after {days_left} days is: {total_water_left} liters\")\n",
    "\n",
    "def alert_navigation_system(error):\n",
    "    print(error)\n",
    "\n",
    "try:\n",
    "    water_left(5,100,2)\n",
    "except RuntimeError as err:\n",
    "    alert_navigation_system(err)"
   ]
  },
  {
   "cell_type": "code",
   "execution_count": null,
   "metadata": {},
   "outputs": [
    {
     "name": "stdout",
     "output_type": "stream",
     "text": [
      "All arguments must be of type int, but received: 'u'\n"
     ]
    }
   ],
   "source": [
    "def water_left(astronauts, water_left, days_left):\n",
    "    for argument in [astronauts, water_left, days_left]:\n",
    "        try:\n",
    "            # If argument is an int, the following operation will work\n",
    "            argument / 10\n",
    "        except TypeError:\n",
    "            raise TypeError(f\"All arguments must be of type int, but received: '{argument}'\")\n",
    "    daily_usage = astronauts * 11\n",
    "    total_usage = daily_usage * days_left\n",
    "    total_water_left = water_left - total_usage\n",
    "    if total_water_left < 0:\n",
    "        raise RuntimeError(f\"There is not enough water for {astronauts} astronauts after {days_left} days!\")\n",
    "    print (f\"Total water left after {days_left} days is: {total_water_left} liters\")\n",
    "\n",
    "def alert_navigation_system(error):\n",
    "    print(error)\n",
    "\n",
    "try:\n",
    "    water_left(5,\"u\",2)\n",
    "except RuntimeError as err:\n",
    "    alert_navigation_system(err)\n",
    "except TypeError as err2:\n",
    "    alert_navigation_system(err2)"
   ]
  }
 ],
 "metadata": {
  "interpreter": {
   "hash": "c0c7719e5341317a9bbb56778fd8776dacb66ddcf0e8c978904add7a0a98dbce"
  },
  "kernelspec": {
   "display_name": "Python 3.6.4 ('base')",
   "language": "python",
   "name": "python3"
  },
  "language_info": {
   "codemirror_mode": {
    "name": "ipython",
    "version": 3
   },
   "file_extension": ".py",
   "mimetype": "text/x-python",
   "name": "python",
   "nbconvert_exporter": "python",
   "pygments_lexer": "ipython3",
   "version": "3.6.4"
  },
  "orig_nbformat": 4
 },
 "nbformat": 4,
 "nbformat_minor": 2
}
